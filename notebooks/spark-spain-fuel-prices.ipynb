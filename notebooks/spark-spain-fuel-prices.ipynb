{
 "cells": [
  {
   "cell_type": "code",
   "execution_count": 39,
   "id": "3726eeb0-006d-4b75-90bb-ff8fc2114e71",
   "metadata": {
    "ExecuteTime": {
     "end_time": "2024-11-19T18:08:40.370984Z",
     "start_time": "2024-11-19T18:08:39.714133Z"
    }
   },
   "outputs": [],
   "source": [
    "from datetime import datetime\n",
    "from datetime import timezone\n",
    "\n",
    "import pytz\n",
    "import requests\n",
    "\n",
    "import pandas as pd\n",
    "import numpy as np\n",
    "import matplotlib.pyplot as plt\n",
    "import seaborn as sns\n",
    "\n",
    "from pyspark.sql.functions import *\n",
    "from pyspark.sql.types import *\n",
    "\n",
    "from helpers import *"
   ]
  },
  {
   "cell_type": "code",
   "execution_count": 42,
   "id": "386f6f46-c152-4c76-9d54-5f3409039164",
   "metadata": {},
   "outputs": [],
   "source": [
    "def get_completeness_data(df: DataFrame, total_rows: float):\n",
    "    def get_n_null_values_per_column(column):\n",
    "        return df.filter(col(column).isNull()).count()\n",
    "\n",
    "    return ((\"completeness\", column, 1 - (get_n_null_values_per_column(column) / total_rows)) for column in df.columns)\n"
   ]
  },
  {
   "cell_type": "code",
   "execution_count": 18,
   "id": "05ff0053-222d-4db9-b2bb-1b4a67e1e0f7",
   "metadata": {},
   "outputs": [],
   "source": [
    "columns = [\n",
    "    \"timestamp\",\n",
    "    \"zip_code\",\n",
    "    \"eess_id\",\n",
    "    \"ccaa_id\",\n",
    "    \"municipality_id\",\n",
    "    \"province_id\",\n",
    "    \"sale_type\",\n",
    "    \"label\",\n",
    "    \"address\",\n",
    "    \"municipality\",\n",
    "    \"province\",\n",
    "    \"locality\",\n",
    "    \"latitude\",\n",
    "    \"longitude\",\n",
    "    # \"biodiesel_price\",\n",
    "    # \"bioethanol_price\",\n",
    "    # \"compressed_natural_gas_price\",\n",
    "    # \"liquefied_natural_gas_price\",\n",
    "    # \"liquefied_petroleum_gases_price\",\n",
    "    # \"diesel_a_price\",\n",
    "    # \"diesel_b_price\",\n",
    "    # \"diesel_premium_price\",\n",
    "    \"gasoline_95_e10_price\",\n",
    "    \"gasoline_95_e5_price\",\n",
    "    \"gasoline_95_e5_premium_price\",\n",
    "    # \"gasoline_98_e10_price\",\n",
    "    # \"gasoline_98_e5_price\",\n",
    "    # \"hydrogen_price\",\n",
    "]"
   ]
  },
  {
   "cell_type": "code",
   "execution_count": null,
   "id": "db2b45e3-d609-4b73-aa68-e70260c32449",
   "metadata": {},
   "outputs": [],
   "source": [
    "schema = StructType([\n",
    "    StructField('timestamp', StringType(), True), \n",
    "    StructField('zip_code', LongType(), True), \n",
    "    StructField('eess_id', LongType(), True), \n",
    "    StructField('ccaa_id', LongType(), True), \n",
    "    StructField('municipality_id', LongType(), True), \n",
    "    StructField('province_id', LongType(), True), \n",
    "    StructField('sale_type', StringType(), True),\n",
    "    StructField('label', StringType(), True), \n",
    "    StructField('address', StringType(), True), \n",
    "    StructField('municipality', StringType(), True), \n",
    "    StructField('province', StringType(), True), \n",
    "    StructField('locality', StringType(), True),\n",
    "\n",
    "    # Price Columns\n",
    "    StructField('latitude', DoubleType(), True), \n",
    "    StructField('longitude', DoubleType(), True), \n",
    "    StructField('biodiesel_price', DoubleType(), True), \n",
    "    StructField('bioethanol_price', DoubleType(), True), \n",
    "    StructField('compressed_natural_gas_price', DoubleType(), True), \n",
    "    StructField('liquefied_natural_gas_price', DoubleType(), True), \n",
    "    StructField('liquefied_petroleum_gases_price', DoubleType(), True), \n",
    "    StructField('diesel_a_price', DoubleType(), True), \n",
    "    StructField('diesel_b_price', DoubleType(), True), \n",
    "    StructField('diesel_premium_price', DoubleType(), True), \n",
    "    StructField('gasoline_95_e10_price', DoubleType(), True), \n",
    "    StructField('gasoline_95_e5_price', DoubleType(), True), \n",
    "    StructField('gasoline_95_e5_premium_price', DoubleType(), True), \n",
    "    StructField('gasoline_98_e10_price', DoubleType(), True), \n",
    "    StructField('gasoline_98_e5_price', DoubleType(), True), \n",
    "    StructField('hydrogen_price', DoubleType(), True),\n",
    "])"
   ]
  },
  {
   "cell_type": "code",
   "execution_count": 14,
   "id": "c91ba81f7cb3d690",
   "metadata": {
    "ExecuteTime": {
     "end_time": "2024-11-19T18:09:13.637677Z",
     "start_time": "2024-11-19T18:09:11.773266Z"
    }
   },
   "outputs": [],
   "source": [
    "spark = get_spark_session()"
   ]
  },
  {
   "cell_type": "code",
   "execution_count": 15,
   "id": "120b23a269e14f54",
   "metadata": {
    "ExecuteTime": {
     "end_time": "2024-11-19T18:11:44.446212Z",
     "start_time": "2024-11-19T18:09:37.652587Z"
    },
    "scrolled": true
   },
   "outputs": [
    {
     "name": "stdout",
     "output_type": "stream",
     "text": [
      "Reading spain_fuel_prices_2024-10-11T11:50:49.486761.csv\n",
      "Dropping Date column from spain_fuel_prices_2024-10-11T11:50:49.486761.csv\n",
      "Reading spain_fuel_prices_2024-10-12T10:03:27.045933.csv\n",
      "Dropping Date column from spain_fuel_prices_2024-10-12T10:03:27.045933.csv\n",
      "Reading spain_fuel_prices_2024-10-13T10:05:07.csv\n",
      "Reading spain_fuel_prices_2024-10-14T10:02:20.csv\n",
      "Reading spain_fuel_prices_2024-10-15T10:02:20.csv\n",
      "Reading spain_fuel_prices_2024-10-16T10:02:21.csv\n",
      "Reading spain_fuel_prices_2024-10-17T10:02:20.csv\n",
      "Reading spain_fuel_prices_2024-10-18T10:02:22.csv\n",
      "Reading spain_fuel_prices_2024-10-19T10:02:21.csv\n",
      "Reading spain_fuel_prices_2024-10-20T10:02:22.csv\n",
      "Reading spain_fuel_prices_2024-10-21T10:02:22.csv\n",
      "Reading spain_fuel_prices_2024-10-22T10:02:19.csv\n",
      "Reading spain_fuel_prices_2024-10-23T10:02:21.csv\n",
      "Reading spain_fuel_prices_2024-10-24T10:02:22.csv\n",
      "Reading spain_fuel_prices_2024-10-25T10:02:17.csv\n",
      "Reading spain_fuel_prices_2024-10-26T10:02:21.csv\n",
      "Reading spain_fuel_prices_2024-10-27T11:02:22.csv\n",
      "Reading spain_fuel_prices_2024-10-28T11:02:19.csv\n",
      "Reading spain_fuel_prices_2024-10-29T11:02:22.csv\n",
      "Reading spain_fuel_prices_2024-10-30T11:02:18.csv\n",
      "Reading spain_fuel_prices_2024-10-31T11:02:19.csv\n",
      "Reading spain_fuel_prices_2024-11-01T11:02:18.csv\n",
      "Reading spain_fuel_prices_2024-11-02T11:02:17.csv\n",
      "Reading spain_fuel_prices_2024-11-03T11:02:21.csv\n",
      "Reading spain_fuel_prices_2024-11-04T11:02:18.csv\n",
      "Reading spain_fuel_prices_2024-11-05T11:02:22.csv\n",
      "Reading spain_fuel_prices_2024-11-06T11:02:18.csv\n",
      "Reading spain_fuel_prices_2024-11-07T11:02:22.csv\n",
      "Reading spain_fuel_prices_2024-11-08T11:02:17.csv\n",
      "Reading spain_fuel_prices_2024-11-09T11:02:18.csv\n",
      "Reading spain_fuel_prices_2024-11-10T11:02:18.csv\n",
      "Reading spain_fuel_prices_2024-11-11T11:02:18.csv\n",
      "Reading spain_fuel_prices_2024-11-12T11:02:16.csv\n",
      "Reading spain_fuel_prices_2024-11-13T11:02:18.csv\n",
      "Reading spain_fuel_prices_2024-11-14T11:02:22.csv\n",
      "Reading spain_fuel_prices_2024-11-15T11:02:18.csv\n",
      "Reading spain_fuel_prices_2024-11-16T11:02:22.csv\n",
      "Reading spain_fuel_prices_2024-11-17T11:02:18.csv\n",
      "Reading spain_fuel_prices_2024-11-18T11:02:18.csv\n",
      "Reading spain_fuel_prices_2024-11-19T11:02:19.csv\n"
     ]
    }
   ],
   "source": [
    "pandas_df = read_csv_as_pd_df(BUCKET)"
   ]
  },
  {
   "cell_type": "code",
   "execution_count": 16,
   "id": "82fc5569b7987761",
   "metadata": {
    "ExecuteTime": {
     "end_time": "2024-11-19T18:12:41.546888Z",
     "start_time": "2024-11-19T18:11:48.431008Z"
    }
   },
   "outputs": [],
   "source": [
    "df = spark.createDataFrame(pandas_df)"
   ]
  },
  {
   "cell_type": "code",
   "execution_count": 33,
   "id": "9dcb949d-3111-4379-953b-2535949871f3",
   "metadata": {},
   "outputs": [
    {
     "name": "stderr",
     "output_type": "stream",
     "text": [
      "                                                                                \r"
     ]
    },
    {
     "data": {
      "text/plain": [
       "477270"
      ]
     },
     "execution_count": 33,
     "metadata": {},
     "output_type": "execute_result"
    }
   ],
   "source": [
    "df.count()"
   ]
  },
  {
   "cell_type": "code",
   "execution_count": 35,
   "id": "2a34f13b-bd26-49ba-8a90-ec9001d19c1f",
   "metadata": {},
   "outputs": [],
   "source": [
    "df = df.withColumn(\"date\", to_date(\"timestamp\"))"
   ]
  },
  {
   "cell_type": "code",
   "execution_count": 38,
   "id": "4f86897b-be28-47f3-9bfe-e33261d8b3e1",
   "metadata": {},
   "outputs": [
    {
     "name": "stderr",
     "output_type": "stream",
     "text": [
      "[Stage 37:>                                                         (0 + 8) / 8]\r"
     ]
    },
    {
     "name": "stdout",
     "output_type": "stream",
     "text": [
      "+----------+------+\n",
      "|      date| count|\n",
      "+----------+------+\n",
      "|2024-10-11|11,992|\n",
      "|2024-10-12|11,990|\n",
      "|2024-10-13|11,979|\n",
      "|2024-10-14|12,001|\n",
      "|2024-10-15|12,007|\n",
      "|2024-10-16|12,010|\n",
      "|2024-10-17|12,013|\n",
      "|2024-10-18|11,987|\n",
      "|2024-10-19|11,979|\n",
      "|2024-10-20|11,963|\n",
      "|2024-10-21|11,972|\n",
      "|2024-10-22|11,978|\n",
      "|2024-10-23|11,944|\n",
      "|2024-10-24|11,931|\n",
      "|2024-10-25|11,935|\n",
      "|2024-10-26|11,933|\n",
      "|2024-10-27|11,918|\n",
      "|2024-10-28|11,921|\n",
      "|2024-10-29|11,916|\n",
      "|2024-10-30|11,894|\n",
      "+----------+------+\n",
      "only showing top 20 rows\n",
      "\n"
     ]
    },
    {
     "name": "stderr",
     "output_type": "stream",
     "text": [
      "                                                                                \r"
     ]
    }
   ],
   "source": [
    "df.groupBy(\"date\").count().withColumn(\"count\", format_number(\"count\", 0)).orderBy(\"date\").show()"
   ]
  },
  {
   "cell_type": "code",
   "execution_count": 23,
   "id": "0517cb65-e641-4953-aee8-865aa999df89",
   "metadata": {},
   "outputs": [
    {
     "name": "stderr",
     "output_type": "stream",
     "text": [
      "                                                                                \r"
     ]
    },
    {
     "data": {
      "text/plain": [
       "0"
      ]
     },
     "execution_count": 23,
     "metadata": {},
     "output_type": "execute_result"
    }
   ],
   "source": [
    "df.groupBy(df.columns).count().filter(col(\"count\") > 2).count()"
   ]
  },
  {
   "cell_type": "code",
   "execution_count": 45,
   "id": "10927cf1-47b0-44e9-beb2-29e1301a8201",
   "metadata": {},
   "outputs": [
    {
     "name": "stderr",
     "output_type": "stream",
     "text": [
      "                                                                                \r"
     ]
    },
    {
     "data": {
      "text/plain": [
       "[('completeness', 'timestamp', 1.0),\n",
       " ('completeness', 'zip_code', 1.0),\n",
       " ('completeness', 'eess_id', 1.0),\n",
       " ('completeness', 'ccaa_id', 1.0),\n",
       " ('completeness', 'municipality_id', 1.0),\n",
       " ('completeness', 'province_id', 1.0),\n",
       " ('completeness', 'sale_type', 1.0),\n",
       " ('completeness', 'label', 1.0),\n",
       " ('completeness', 'address', 1.0),\n",
       " ('completeness', 'municipality', 1.0),\n",
       " ('completeness', 'province', 1.0),\n",
       " ('completeness', 'locality', 1.0),\n",
       " ('completeness', 'latitude', 1.0),\n",
       " ('completeness', 'longitude', 1.0),\n",
       " ('completeness', 'biodiesel_price', 1.0),\n",
       " ('completeness', 'bioethanol_price', 1.0),\n",
       " ('completeness', 'compressed_natural_gas_price', 1.0),\n",
       " ('completeness', 'liquefied_natural_gas_price', 1.0),\n",
       " ('completeness', 'liquefied_petroleum_gases_price', 1.0),\n",
       " ('completeness', 'diesel_a_price', 1.0),\n",
       " ('completeness', 'diesel_b_price', 1.0),\n",
       " ('completeness', 'diesel_premium_price', 1.0),\n",
       " ('completeness', 'gasoline_95_e10_price', 1.0),\n",
       " ('completeness', 'gasoline_95_e5_price', 1.0),\n",
       " ('completeness', 'gasoline_95_e5_premium_price', 1.0),\n",
       " ('completeness', 'gasoline_98_e10_price', 1.0),\n",
       " ('completeness', 'gasoline_98_e5_price', 1.0),\n",
       " ('completeness', 'hydrogen_price', 1.0),\n",
       " ('completeness', 'date', 1.0)]"
      ]
     },
     "execution_count": 45,
     "metadata": {},
     "output_type": "execute_result"
    }
   ],
   "source": [
    "list(get_completeness_data(df, df.count()))"
   ]
  }
 ],
 "metadata": {
  "kernelspec": {
   "display_name": "Python 3 (ipykernel)",
   "language": "python",
   "name": "python3"
  },
  "language_info": {
   "codemirror_mode": {
    "name": "ipython",
    "version": 3
   },
   "file_extension": ".py",
   "mimetype": "text/x-python",
   "name": "python",
   "nbconvert_exporter": "python",
   "pygments_lexer": "ipython3",
   "version": "3.9.19"
  }
 },
 "nbformat": 4,
 "nbformat_minor": 5
}
